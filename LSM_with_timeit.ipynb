{
 "cells": [
  {
   "cell_type": "code",
   "execution_count": 2,
   "metadata": {},
   "outputs": [
    {
     "name": "stdout",
     "output_type": "stream",
     "text": [
      "American put via LSM Quadratic = 4.8184\n",
      "Average execution time over 10 runs: 0.7971 seconds\n"
     ]
    }
   ],
   "source": [
    "import numpy as np\n",
    "from numpy.polynomial import Polynomial\n",
    "import timeit\n",
    "\n",
    "def ls_american_option_quadratic_iter(X, t, r, strike):\n",
    "    # At final time, payoff is just the European payoff\n",
    "    cashflow = np.maximum(strike - X[-1, :], 0.0)\n",
    "    \n",
    "    # Go backwards from next-to-last time step down to the first\n",
    "    for i in reversed(range(1, X.shape[0] - 1)):\n",
    "        dt = (t[i+1] - t[i])\n",
    "        df = np.exp(-r * dt)\n",
    "        cashflow = cashflow * df\n",
    "        \n",
    "        x = X[i, :]\n",
    "        exercise = np.maximum(strike - x, 0.0)\n",
    "        itm = (exercise > 0)\n",
    "        \n",
    "        # Fit a 2nd-degree polynomial on the in-the-money subset\n",
    "        fitted = Polynomial.fit(x[itm], cashflow[itm], deg=2)\n",
    "        continuation = fitted(x)\n",
    "        \n",
    "        ex_idx = itm & (exercise > continuation)\n",
    "        cashflow[ex_idx] = exercise[ex_idx]\n",
    "        \n",
    "        yield cashflow, x, fitted, continuation, exercise, ex_idx\n",
    "\n",
    "def longstaff_schwartz_american_option_quadratic(X, t, r, strike):\n",
    "    gen = ls_american_option_quadratic_iter(X, t, r, strike)\n",
    "    cashflow = None\n",
    "    for c, *_ in gen:\n",
    "        cashflow = c\n",
    "    if cashflow is None:\n",
    "        raise ValueError(\"No cashflow computed in the iteration!\")\n",
    "    \n",
    "    dt = (t[1] - t[0])\n",
    "    return cashflow.mean() * np.exp(-r * dt)\n",
    "\n",
    "def simulate_geometric_brownian_paths(S0, r, sigma, T, N, n_steps, seed=None):\n",
    "    if seed is not None:\n",
    "        np.random.seed(seed)\n",
    "    \n",
    "    dt = T / n_steps\n",
    "    S = np.zeros((n_steps + 1, N))\n",
    "    S[0, :] = S0\n",
    "    \n",
    "    for i in range(n_steps):\n",
    "        z = np.random.normal(size=N)\n",
    "        S[i+1, :] = S[i, :] * np.exp((r - 0.5 * sigma**2) * dt + sigma * np.sqrt(dt) * z)\n",
    "    \n",
    "    return S\n",
    "\n",
    "def run_pricing():\n",
    "    # Parameters\n",
    "    S0     = 36.0\n",
    "    K      = 40.0\n",
    "    r      = 0.06\n",
    "    sigma  = 0.20\n",
    "    T      = 2.0\n",
    "    n_steps = 50\n",
    "    N       = 100000  # Note: This might take a moment; you can reduce it for testing\n",
    "    \n",
    "    t = np.linspace(0, T, n_steps + 1)\n",
    "    X = simulate_geometric_brownian_paths(S0, r, sigma, T, N, n_steps, seed=52)\n",
    "    price = longstaff_schwartz_american_option_quadratic(X, t, r, K)\n",
    "    return price\n",
    "\n",
    "if __name__ == \"__main__\":\n",
    "    # Run once to verify output\n",
    "    price = run_pricing()\n",
    "    print(f\"American put via LSM Quadratic = {price:.4f}\")\n",
    "    \n",
    "    # Measure execution time over 10 runs\n",
    "    execution_time = timeit.timeit('run_pricing()', setup='from __main__ import run_pricing', number=10)\n",
    "    print(f\"Average execution time over 10 runs: {execution_time / 10:.4f} seconds\")\n",
    "\n",
    "\n"
   ]
  }
 ],
 "metadata": {
  "kernelspec": {
   "display_name": "Python 3",
   "language": "python",
   "name": "python3"
  },
  "language_info": {
   "codemirror_mode": {
    "name": "ipython",
    "version": 3
   },
   "file_extension": ".py",
   "mimetype": "text/x-python",
   "name": "python",
   "nbconvert_exporter": "python",
   "pygments_lexer": "ipython3",
   "version": "3.12.0"
  }
 },
 "nbformat": 4,
 "nbformat_minor": 2
}
